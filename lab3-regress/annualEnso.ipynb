{
 "cells": [
  {
   "cell_type": "code",
   "execution_count": 8,
   "metadata": {},
   "outputs": [],
   "source": [
    "import pandas as pd\n",
    "import numpy as np\n",
    "\n",
    "# goal here is to find annual enso years using the definition from the pnas paper\n"
   ]
  },
  {
   "cell_type": "code",
   "execution_count": 9,
   "metadata": {},
   "outputs": [],
   "source": [
    "# phase flags ONI value as Missing (M), El Nino (E), Neutral (N), La Nina (L)\n",
    "# Phases calculated from OSI # following https://www.pnas.org/content/116/45/22512 method\n",
    "# 5-month average of ONI per year Nov-Feb thresholded at 0.6 deg C\n",
    "#ONI data from https://bmcnoldy.rsmas.miami.edu/tropics/oni/ONI_NINO34_1854-2021.txt    "
   ]
  },
  {
   "cell_type": "markdown",
   "metadata": {},
   "source": [
    "The SST anomaly averaged in the NINO 3.4 region (5°N–5°S, 120°–170°W), known as Oceanic Niño Index (ONI), is averaged for October-November-December-January-February (ONDJF) to identify El Niño years, because ONI has largest variances during ONDJF (SI Appendix, Fig. S3B). An El Niño year is defined as ONDJF ONI is greater than or equals to 0.6 °C. Using the linearly detrended data, 33 El Niño years are identified.\n",
    "\n"
   ]
  },
  {
   "cell_type": "code",
   "execution_count": 10,
   "metadata": {},
   "outputs": [],
   "source": [
    "data = pd.read_csv('./old/monthlyOSI_ENSO.csv',skiprows=9)\n",
    "data.head()\n",
    "# O N D J F for each year prior. Go 1871 to end.\n",
    "avg = []\n",
    "year = data.YEAR.values\n",
    "month = data.MONTH.values\n",
    "allyears = np.arange(1871,2020)\n",
    "for y in range(1871,2020):\n",
    "    mask =((year==y)&((month==10)|(month==11)|(month==12)))|((year==y+1)&((month==1)|(month==2)))\n",
    "    val = data.NINO34_ANOM[mask].mean() # ONDJF Avg\n",
    "    avg.append(val)\n",
    "    \n",
    "allyears = allyears\n",
    "avg = np.array(avg)\n",
    "\n",
    "allninos = np.empty(shape=allyears.size,dtype='str')\n",
    "allninos[avg>0.6]='E'\n",
    "allninos[avg<-0.6]='L'\n",
    "allninos[np.abs(avg)<=0.6]='N'\n",
    "\n",
    "header = 'phase flags ONI value as Missing (M), El Nino (E), Neutral (N), La Nina (L)\\n Phases calculated from OSI following https://www.pnas.org/content/116/45/22512 method'\n",
    "pd.DataFrame({'year':allyears+1,'phase':allninos,'oni':avg}).to_csv('ensoPhaseAnnual.csv',header=header,index=False)"
   ]
  },
  {
   "cell_type": "code",
   "execution_count": 56,
   "metadata": {
    "scrolled": true
   },
   "outputs": [
    {
     "data": {
      "text/plain": [
       "array(['N', 'L', 'N', 'N', 'N', 'E', 'E', 'N', 'L', 'N', 'N', 'N', 'N',\n",
       "       'E', 'E', 'L', 'N', 'E', 'L', 'N', 'N', 'L', 'L', 'L', 'N', 'E',\n",
       "       'N', 'L', 'E', 'N', 'N', 'E', 'L', 'E', 'E', 'L', 'N', 'L', 'L',\n",
       "       'L', 'E', 'N', 'E', 'E', 'L', 'L', 'L', 'E', 'E', 'N', 'E', 'L',\n",
       "       'E', 'L', 'E', 'L', 'N', 'N', 'N', 'E', 'N', 'N', 'L', 'N', 'N',\n",
       "       'N', 'N', 'L', 'E', 'E', 'E', 'L', 'N', 'N', 'N', 'N', 'N', 'N',\n",
       "       'L', 'N', 'E', 'N', 'E', 'L', 'L', 'N', 'E', 'N', 'N', 'N', 'N',\n",
       "       'N', 'E', 'L', 'E', 'N', 'N', 'E', 'E', 'L', 'L', 'E', 'L', 'L',\n",
       "       'L', 'E', 'E', 'N', 'N', 'N', 'N', 'E', 'L', 'L', 'N', 'E', 'E',\n",
       "       'L', 'N', 'N', 'E', 'N', 'N', 'E', 'L', 'N', 'E', 'L', 'L', 'L',\n",
       "       'N', 'E', 'N', 'E', 'L', 'E', 'L', 'L', 'E', 'L', 'L', 'N', 'N',\n",
       "       'N', 'E', 'N', 'L', 'E', 'N'], dtype='<U1')"
      ]
     },
     "execution_count": 56,
     "metadata": {},
     "output_type": "execute_result"
    }
   ],
   "source": [
    "allninos"
   ]
  },
  {
   "cell_type": "code",
   "execution_count": 12,
   "metadata": {},
   "outputs": [
    {
     "data": {
      "text/plain": [
       "array([-0.02 , -0.908, -0.542, -0.51 , -0.338,  0.916,  3.068, -0.522,\n",
       "       -0.876,  0.59 ,  0.264, -0.228,  0.426,  0.866,  1.032, -1.698,\n",
       "        0.482,  2.446, -1.698, -0.188, -0.058, -1.416, -1.308, -0.76 ,\n",
       "        0.45 ,  1.724, -0.35 , -0.69 ,  1.374,  0.496, -0.092,  1.898,\n",
       "       -1.284,  0.842,  1.062, -0.65 ,  0.034, -1.14 , -1.408, -0.994,\n",
       "        1.25 , -0.528,  0.786,  1.416, -0.852, -2.078, -1.148,  1.678,\n",
       "        0.746, -0.444,  0.708, -0.7  ,  0.936, -1.324,  1.432, -0.634,\n",
       "        0.266, -0.26 ,  0.392,  1.498, -0.554, -0.278, -1.196, -0.128,\n",
       "        0.052, -0.21 , -0.136, -0.94 ,  0.626,  2.03 ,  1.244, -1.56 ,\n",
       "       -0.076, -0.404, -0.266,  0.256, -0.052, -0.446, -1.13 , -0.59 ,\n",
       "        0.796,  0.262,  0.79 , -0.664, -1.35 , -0.314,  1.66 ,  0.582,\n",
       "       -0.03 ,  0.088, -0.222, -0.328,  1.172, -0.666,  1.642, -0.29 ,\n",
       "       -0.51 ,  0.932,  0.664, -1.118, -0.79 ,  1.908, -1.858, -0.622,\n",
       "       -1.516,  0.814,  0.728, -0.054,  0.532, -0.132, -0.098,  2.158,\n",
       "       -0.774, -0.924, -0.394,  1.174,  1.022, -1.726, -0.012,  0.386,\n",
       "        1.43 , -0.07 ,  0.044,  0.94 , -0.944, -0.45 ,  2.32 , -1.486,\n",
       "       -1.538, -0.68 , -0.208,  1.074,  0.354,  0.64 , -0.658,  0.732,\n",
       "       -1.568, -0.67 ,  1.366, -1.512, -0.964, -0.176, -0.328,  0.564,\n",
       "        2.506, -0.496, -0.854,  0.816,  0.502])"
      ]
     },
     "execution_count": 12,
     "metadata": {},
     "output_type": "execute_result"
    }
   ],
   "source": [
    "avg"
   ]
  },
  {
   "cell_type": "code",
   "execution_count": 13,
   "metadata": {},
   "outputs": [
    {
     "data": {
      "text/plain": [
       "array([0.502])"
      ]
     },
     "execution_count": 13,
     "metadata": {},
     "output_type": "execute_result"
    }
   ],
   "source": [
    "avg[mask]"
   ]
  },
  {
   "cell_type": "code",
   "execution_count": 14,
   "metadata": {},
   "outputs": [],
   "source": [
    "yearP, P = np.loadtxt('/home/kp/Desktop/vancouverPrecip/annualPrecip.dat',skiprows=1).T\n",
    "out = []\n",
    "for y,p in zip(yearP,P):\n",
    "    if y in allyears:\n",
    "        mask = y==allyears\n",
    "        nino = allninos[mask].item()\n",
    "        out.append([y,p,nino,avg[mask].item()])\n",
    "out = np.array(out)\n",
    "pd.DataFrame({'year':out[:,0],'precip':out[:,1],'phase':out[:,2],'oni':out[:,3]}).to_csv('/home/kp/Desktop/vancouverPrecip/rainEnsoPhaseAnnual1.csv',header=header,index=False)"
   ]
  },
  {
   "cell_type": "code",
   "execution_count": null,
   "metadata": {},
   "outputs": [],
   "source": []
  }
 ],
 "metadata": {
  "kernelspec": {
   "display_name": "Python 3",
   "language": "python",
   "name": "python3"
  },
  "language_info": {
   "codemirror_mode": {
    "name": "ipython",
    "version": 3
   },
   "file_extension": ".py",
   "mimetype": "text/x-python",
   "name": "python",
   "nbconvert_exporter": "python",
   "pygments_lexer": "ipython3",
   "version": "3.8.5"
  }
 },
 "nbformat": 4,
 "nbformat_minor": 4
}
